{
 "cells": [
  {
   "attachments": {},
   "cell_type": "markdown",
   "metadata": {},
   "source": [
    "**Resources**\n",
    "\n",
    "- https://icdt.osu.edu/cybercanon"
   ]
  },
  {
   "attachments": {},
   "cell_type": "markdown",
   "metadata": {},
   "source": [
    "**Class Schedule**\n",
    "- Questions\n",
    "- Quiz\n",
    "- Current Events\n",
    "- Lecture\n",
    "- Homework"
   ]
  },
  {
   "attachments": {},
   "cell_type": "markdown",
   "metadata": {},
   "source": [
    "**Current Events**\n",
    "\n",
    "- CISA added CVE-2023-28252, a windows zero-day vulnerability in the Common Log File Systme (CLFS) to catalog of Known Exploited Vulnerabilities yesterday.\n",
    "    - Threat has been escalating privileges and deploying ransomware payloads, particularly Nokoyama.\n",
    "    - Nokoyama, surfaced in Feb 2022.\n",
    "        - An offshoot of JSWorm. Uses CLFS system flaws to perpetrate double extortion attacks with victims stolen data.\n",
    "    - Microsoft patched.\n",
    "        - https://www.bleepingcomputer.com/news/microsoft/microsoft-april-2023-patch-tuesday-fixes-1-zero-day-97-flaws"
   ]
  },
  {
   "attachments": {},
   "cell_type": "markdown",
   "metadata": {},
   "source": [
    "# **Exam Overview: Security and Risk Management**\n",
    "\n",
    "*Orange highlights = important definition."
   ]
  },
  {
   "attachments": {},
   "cell_type": "markdown",
   "metadata": {},
   "source": [
    "**Topics [PART 1, Today]**\n",
    "- Understand, adhere to, and promote professional *ETHICS.\n",
    "- Understand and apply *SECURITY CONCEPTS.\n",
    "- Evaluate and apply *SECURITY GOVERNANCE PRINCIPLES\n",
    "- Determine *COMPLIANCE and other requirements\n",
    "- Understand *LEGAL AND REGULATORY ISSUES that pertain to information security in a holistic context.\n",
    "- Understand requirements for *INVESTIGATION TYPES, i.e. administrative, criminal, civil, regulatory, indsutry standards.\n",
    "- Develop, document, and implement *SECURITY POLICY, STANDARDS, PROCEDURES, AND GUIDELINES.\n",
    "\n",
    "**Topics [PART 2, Next Week]**\n",
    "- Identify, analyze, and prioritize *BUSINESS CONTINUITY (BC) requirements.\n",
    "- Contribute to and enforce *PERSONNEL SECURITY POLICIES AND PROCEDURES.\n",
    "- Understand and apply RISK MANAGEMENT CONCEPTS\n",
    "- Understand and apply THREAT MDOELING CONCEPTS AND METHODOLOGIES\n",
    "- Apply SUPPLY CHAIN RISK MANAGEMENT (SCRM) concepts.\n",
    "- Establish and maintain a SECURITY AWARENESS, EDUCATION, AND TRAINING PROGRAM.\n",
    "\n",
    "---"
   ]
  },
  {
   "attachments": {},
   "cell_type": "markdown",
   "metadata": {},
   "source": [
    "**Professional Ethics**\n",
    "- Ethics is always top concern for all INFO SEC Professionals.\n",
    "- (ISC)2 CODE OF PROFESSIONAL ETHICS is a MUST for CISSP certification (very testable.)\n",
    "- Code of ethics preamble is:\n",
    "    - Safety and welfare of society and common good, duty to our principals, and each other, requires use to adhere, and be seen to adhere, to highest ethical stand of behavior.\n",
    "    - Condition of certification is strictly adherence of the Code of Ethics.\n",
    "- https://www.isc2.org/ethics/"
   ]
  },
  {
   "attachments": {},
   "cell_type": "markdown",
   "metadata": {},
   "source": [
    "**(ISC)2 Code of Professional Ethics**\n",
    "- CISSP members must FOLLOW.\n",
    "- Governed by ISC2 Code of Ethics Cannons: (ORDERED BY IMPORTANCE)\n",
    "    - CANNON 1: Protect society, the common good, necessary public trust and confidence and infrastructure.\n",
    "    - CANNON 2: Act honorably, honestly, justly, repsonsibly, and legally.\n",
    "    - CANNON 3: Provide diligent and competent service to principals.\n",
    "    - CANNON 4: Advance and protect the profession.\n",
    "    \n",
    "---"
   ]
  },
  {
   "attachments": {},
   "cell_type": "markdown",
   "metadata": {},
   "source": [
    "**Undertand and apply security concepts**\n",
    "- What is information security?\n",
    "    - Information security is RISK MANAGEMENT related to the CONFIDENTIALITY, INTEGRITY, AND AVAILABILITY of information.\n",
    "\n",
    "    - Also, according to book: \"info sec refers to the PROCESSES and METHODOLOGIES involved in SAFEGUARDING information and underlying systems from inappropriate access, use, modification, or disturbance.\"\n",
    "    \n",
    "    - INFO SEC IS RISK MANAGEMENT \n"
   ]
  },
  {
   "attachments": {},
   "cell_type": "markdown",
   "metadata": {},
   "source": [
    "- According to the CISSP Certification Exame Outline, the subtopics are:\n",
    "    - Confidentiality\n",
    "    - Integrity\n",
    "    - Availability\n",
    "    - Authenticity\n",
    "    - Nonrepudiation\n",
    "    - ALL very important."
   ]
  },
  {
   "attachments": {},
   "cell_type": "markdown",
   "metadata": {},
   "source": [
    "- C.I.A. TRIAD\n",
    "    - A triangle made of 3 triangles and a center triangle.\n",
    "        - C (TOP) = CONFIDENTIALITY\n",
    "            - Only authorized subjects should access/read info. \n",
    "            - Opposite is disclosure, and the risk to manage is unathorized disclosure.\n",
    "            - Related Concepts:\n",
    "                - Least privilege/Need-to-know: only given what you need to know.\n",
    "            - Privacy: keeping personally identifiable information \"secret\"\n",
    "        - I (LEFT) = INTEGRITY\n",
    "            - Ensure info is accurate and complete.\n",
    "            - Only authorized subjects should access and change info.\n",
    "            - Opposite is alteration, and risk is to manage unauthorized alteration.\n",
    "            - Related concepts:\n",
    "                - Authenticity: accurate and authentic\n",
    "                - Nonrepudiation: cant argue that info is inaccurate.\n",
    "        - A (RIGHT) = AVAILABILITY\n",
    "            - Info should be available to authorized users when its wanted/needed.\n",
    "            - Opposite is DESTRUCTION, and risk is to manage unauthorized DESTRUCTION.\n",
    "            - Related Concepts:\n",
    "                - Accessibility: available\n",
    "                - Usability: usable for user\n",
    "                - Timeliness: up to date data\n",
    "    - OPPOSITE OF CIA is DAD\n",
    "        - Disclosure\n",
    "        - Alteration\n",
    "        - Destruction"
   ]
  },
  {
   "attachments": {},
   "cell_type": "markdown",
   "metadata": {},
   "source": [
    "- Variations of CIA Triad.\n",
    "    - National Institute of Standards and Technology (NIST) Special Publication 800-33, \"Underlying Technical Models for Information Technology Security\" added:\n",
    "        - Accountability: actions of entity may be traced uniquely to that entity\n",
    "        - Assurance: that security measures work as intended\n",
    "        \n",
    "    - Donn B Parker and Parkerian Hexad, added:\n",
    "        - Authenticity: Proper atribution of person who created the information\n",
    "        - Utility: The usefullness of info\n",
    "        - Possession or Control: physical state where information is maintained.\n",
    "        \n",
    "---"
   ]
  },
  {
   "attachments": {},
   "cell_type": "markdown",
   "metadata": {},
   "source": [
    "**Evaluate and Apply Security Governance Principles:**"
   ]
  },
  {
   "attachments": {},
   "cell_type": "markdown",
   "metadata": {},
   "source": [
    "- Security governance is set of responsibilities, policies, and procedures related to defining, managing, and overseeing security practices at an organization.\n",
    "    - Someone need to be responsible for overseeing policies and procedures. Also to make sure whatever is defined is being implemented and executed appropriately."
   ]
  },
  {
   "attachments": {},
   "cell_type": "markdown",
   "metadata": {},
   "source": [
    "- Information Security is NOT an IT issue.\n",
    "    - IT IS A BUSINESS ISSUE.\n",
    "    - BOARD OF DIRECTORS is responsible for information security in a business.\n",
    "    - Information security then must align and provide value to organization's mission/purpose."
   ]
  },
  {
   "attachments": {},
   "cell_type": "markdown",
   "metadata": {},
   "source": [
    "- Applying security governance principles involves:\n",
    "    - ALIGNING\n",
    "        - information security with company strategy, goal, mission, objectives.\n",
    "        - Requires an (intimate) understanding of the company.\n",
    "        - Information security must not impede organization's ability to operate as efficiently as possible. \n",
    "    - INVOLVING INFORMATION SECURITY\n",
    "        - in organizational processes development and management\n",
    "        - Examples of processes: acquisitions, divestitures, governance committees.\n",
    "        - Governance committee is a group of executives/leaders who meet regulary to set direction of company's security function and provide guidance to help it align with company's overall mission/strategy.\n",
    "            - PRIMARY OBJECTIVE OF COMMITTEE is to provide oversight for company's security function.\n",
    "            - Recommended to have a committee because its a great way to build rapport, get things approved, and assist with implementations.\n",
    "        - Mergers/Acquisitions (M&A)\n",
    "            - Risks must be considered in M&A activity.\n",
    "            - Risks include not knowing \"buying a breach\", introduction of new attack vectors, disgruntled employees, etc.\n",
    "            - Info Sec personnels must conduct risk assessment and testing ahead of time.\n",
    "    - DEVELOPING ROLES AND RESPONSIBILITIES\n",
    "        - throughout organization.\n",
    "        - Everyone in organization has an info sec role in play.\n",
    "        - Common Roles (according to book):\n",
    "            1. (CISO) Chief Information Security Officer:\n",
    "                - A senior level executive within org who is responsible for overall management and supervision of INFORMATION SECURITY program.\n",
    "                - Driver of org's security strategy + vision.\n",
    "                - *Ultimately responsible for security of company's systems and information.\n",
    "                    - According to book, but IRL it is the board that is responsible for corporate assets.\n",
    "                - Varys, but reports to CEO or CIO (chief information officer)\n",
    "                - Basic Summary of their role:\n",
    "                    1. Consult with business to make good risk decisions.\n",
    "                    2. Implement business risk decisions to best of ability.\n",
    "            2. (CSO) Chief Security Officer:\n",
    "                - Senior-level executive within org who is responsible for all PHSYICAL SECURITY AND PERSONNEL SECURITY.\n",
    "            3. Security Analyst:\n",
    "                - Technical expertise person in one or more security domain, performs daily work. Data analysis, firewall management, incident handling and other operational activities.\n",
    "            4. Manager or Program Manager:\n",
    "                - Person who owns at least one processes related to info sec. May be the owner for compliance, vulnerability management, or any other broad set of responsibilities that are executed by security analysts.\n",
    "            5. General Users:\n",
    "                - Understand, agree, and adhere to:\n",
    "                    - relevant info sec policies, procedures, standards, and guidelines\n",
    "                    - relevant regulatory and compliance requirements\n",
    "                    - relevant contractual obligations (like nondisclosure agreements)\n",
    "                - Complete Info sec training and awareness activities required.\n",
    "                - Report incidents and suspected incidents according to org's requirement\n",
    "    - IDENTIFYING SECURITY CONTROL FRAMEWORKS\n",
    "        - in order to align organization with.\n",
    "        - ISC2 defines security control framework as:\n",
    "            - \"a notional construct outline org's approach to security, including a list of specific security processes, procedures, and solutions used by org.\"\n",
    "        - Organizations often select a framework based on industry.\n",
    "        - Framework/standards are many, but should know:\n",
    "            - ISO/IEC 27001\n",
    "                - Part of ISO 27000 family of standards.\n",
    "                - Maintained/published by International Org for Standardization (ISO) and Internation Electrotechnica Commission (IEC).\n",
    "                - Focused on creation/maintenance of info sec management system (ISMS) describing overall components of an ISMS.\n",
    "                - Basically tells what SHOULD be doing.\n",
    "            - ISO/IEC 27002\n",
    "                - Titled \"Security Techniques - Code of Practice for Info Sec Controls\"\n",
    "                - More prescriptive than ISO 27001, 27002 is more HOW to do something.\n",
    "            - NIST 800-53\n",
    "                - National Institute of Standards and Technology is a nonregulatory agency of US Dept. of Commerce.\n",
    "                - \"Very comprehensive and prescriptive.\n",
    "                - https://csrc.nist.gov/publications/detail/sp/800-53/rev-5/final\n",
    "            - NIST Cybersecurity Framework (CSF)\n",
    "                - Published 2014.\n",
    "                - Collection of stanards, guidelines, practices to manage cyber sec risks.\n",
    "                - Feb 2013, Obama signed executive order 13636 mandating NIST to develop approach to combat cybersec risks against critical infrastructure.\n",
    "                - Consist of five core functions, each with multiple subdivisions NISTS calls categories.\n",
    "                    - https://www.nist.gov/cyberframework\n",
    "                    - IDENTIFY: develop organizational understanding to manage cybersec risks to systems, people, assets, data, capabilities.\n",
    "                    - PROTECT: Develop/implement appropriate safeguards to ensure delivery of critical services.\n",
    "                    - DETECT: Develop/implement appropriate activities to identify occurence of cybersec event\n",
    "                    - RESPOND: Develope/implement appropriate activities to take action against detected cybersec incident.\n",
    "                    - RECOVER: Develope/implement appropriate activities to maintain plans for resilience and restoe and capabilities or services that were impaired due to cybersec incident.\n",
    "            - CIS Critical Security Controls\n",
    "                - Initially created by SANS institute but was transferred to Center for Internet Security (CIS) in 2015.\n",
    "                - Must know CIS Controls. httpsL//www.cisecurity.org/controls\n",
    "    - PRACTICE DUE DILIGENCE AND DUE CARE\n",
    "        - always needed.\n",
    "        - DUE CARE:\n",
    "            - refers to effort made by an ORDINARILY PRUDENT or reasonable party to avoid harm to another, taking the circumstances into account.\n",
    "            - The level of judgement, care, prudence, determination, and activity that a person would reasonably be expected to do under the same circumstances.\n",
    "            - Relates to conduct that a REASONABLE PERSON would exercise to maintain the confidentiality, integrity, and availability.\n",
    "        - DUE DILIGENCE:\n",
    "            - Continually ensuring that behavior maintains due care. In other words, the continual of due care.\n",
    "            - Relates to ongoing actions that an organization and its personnel conduct to ensure organizational assets are reasonably protected.\n",
    "            - Lack of due care/due diligence will increase risk of being negligent/liable for bad events (like breaches).\n",
    "            - Defensible: when bad events happen, is organization \"defensible\" in court? Have organization exercise due care/diligence."
   ]
  },
  {
   "attachments": {},
   "cell_type": "markdown",
   "metadata": {},
   "source": [
    "---\n",
    "\n",
    "**Determine compliance and other requirements**\n",
    "\n",
    "- COMPLIANCE:\n",
    "    - ISC2 defines as \"adherence to a mandate; it includes set of activities that org conducts to understand/satisfy all laws, regulatory requirements, industry standards, and contractual agreements.\n",
    "- Compliance and information security are not the same. Information security is risk management."
   ]
  },
  {
   "attachments": {},
   "cell_type": "markdown",
   "metadata": {},
   "source": [
    "- Legislateive and Regulatory Requirements:\n",
    "    - First challenge to indentify compliance requirements is knowing which jurisdiction has legal authority to set those requirements.\n",
    "    - Jurisdiction determined by (not limit to): geography/political boundaries/international treaties and agreements/activities the org is engaged in/ etc.\n",
    "    - COMPLIANCE IS #1 driver for info sec investments.\n",
    "    \n",
    "    - Violations of US Laws may subject party to criminal punishment or civil liability.\n",
    "    - Laws categorized into two parts:\n",
    "        1. Statutes: written and adopted by jurisdiction's legislative body \n",
    "        2. Regulations: (subordinate to statutes) more detailed rules on how execution of statute will be performed."
   ]
  },
  {
   "attachments": {},
   "cell_type": "markdown",
   "metadata": {},
   "source": [
    "- NEED TO KNOW: \n",
    "    - US Computer Security Act of 1987\n",
    "    - US Federal Information Security Management Act (FISMA)\n",
    "        - https://csrc.nist.gov/projects/risk-management/about-rmf"
   ]
  },
  {
   "attachments": {},
   "cell_type": "markdown",
   "metadata": {},
   "source": [
    "---\n",
    "\n",
    "**Industry Standards and Other compliance requirements**\n",
    "\n",
    "- Need to Know\n",
    "    - US Sarbanes-Oxley Act of 2002 (SOX)\n",
    "    - System and Organization Controls (SOC)\n",
    "    - Payment Card Indsutry Data Security Standard (PCI DSS)\n",
    "\n",
    "---"
   ]
  },
  {
   "attachments": {},
   "cell_type": "markdown",
   "metadata": {},
   "source": [
    "**PRIVACY REQUIREMENTS**\n",
    "\n",
    "A subset of information security, not other way around.\n",
    "- Information security ocncerns itself with protecting the confidentiality, integrity, and availability of info.\n",
    "- Privacy concerns itself only with confidentiality of type of information (PII - Personal Identification Information)\n",
    "\n",
    "CISSP must know what PII the org handles, and understand the legal, contractual, and regulatory requirements that govern the privacy of the data.\n",
    "\n",
    "---"
   ]
  },
  {
   "attachments": {},
   "cell_type": "markdown",
   "metadata": {},
   "source": [
    "**Understand legal and regulatory issues that pertain to information security in a holistic context**\n",
    "\n",
    "- Cybercrimes and Data Breaches\n",
    "    - Cybercrime\n",
    "        - Cybercrime is any criminal activity that directly involves computer or the internet.\n",
    "        - Three major categories:\n",
    "            1. Crimes against people:\n",
    "                - cyberstalking, harassment, identity theft, fraud\n",
    "            2. Crimes against property\n",
    "                - hacking (criminal hacking is illegal, hacking is not), distribution of viruses, vandalism, IP theft, copyright infringement\n",
    "            3. Crimes against government\n",
    "                - attacks on sovereignty. criminal hacking, theft of confidential info, cyber terrorism\n",
    "    - Data Breach\n",
    "        - a cybercrime where info is accessed or stolen without authorization.\n",
    "        - target is info system and data stored inside.\n",
    "        - CISSP be familiar with some of top referenced global cybercrime and info sec laws and regulations.\n",
    "            - UNITED NATIONS CYBERCRIME\n",
    "                - https://www.unodc.org/unodc/en/cybercrime/index.html\n",
    "                - https://www.unodc.org/unodc/en/cybercrime/global-programme-cybercrime.html\n",
    "            - INTERPOL CYBERCRIME\n",
    "                - https://www.interpol.int/en/Crimes/Cybercrime\n",
    "            - INTERPOL ASEAN CYBER CAPACITY DEVELOPMENT PROJECT\n",
    "                - https://www.interpol.int/en/Crimes/Cybercrime/Cyber-capabilities-development/ASEAN-Cyber-Capacity-Development-Project\n",
    "- NEED TO KNOW:\n",
    "    - US Computer Fraud and Abuse Act of 1986, 18 USC 1030"
   ]
  }
 ],
 "metadata": {
  "language_info": {
   "name": "python"
  },
  "orig_nbformat": 4
 },
 "nbformat": 4,
 "nbformat_minor": 2
}
