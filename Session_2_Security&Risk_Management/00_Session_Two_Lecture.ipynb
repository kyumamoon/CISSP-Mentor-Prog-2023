{
 "cells": [
  {
   "attachments": {},
   "cell_type": "markdown",
   "metadata": {},
   "source": [
    "**Resources**\n",
    "\n",
    "- https://icdt.osu.edu/cybercanon"
   ]
  },
  {
   "attachments": {},
   "cell_type": "markdown",
   "metadata": {},
   "source": [
    "**Class Schedule**\n",
    "- Questions\n",
    "- Quiz\n",
    "- Current Events\n",
    "- Lecture\n",
    "- Homework"
   ]
  },
  {
   "attachments": {},
   "cell_type": "markdown",
   "metadata": {},
   "source": [
    "**Current Events**\n",
    "\n",
    "- CISA added CVE-2023-28252, a windows zero-day vulnerability in the Common Log File Systme (CLFS) to catalog of Known Exploited Vulnerabilities yesterday.\n",
    "    - Threat has been escalating privileges and deploying ransomware payloads, particularly Nokoyama.\n",
    "    - Nokoyama, surfaced in Feb 2022.\n",
    "        - An offshoot of JSWorm. Uses CLFS system flaws to perpetrate double extortion attacks with victims stolen data.\n",
    "    - Microsoft patched.\n",
    "        - https://www.bleepingcomputer.com/news/microsoft/microsoft-april-2023-patch-tuesday-fixes-1-zero-day-97-flaws"
   ]
  },
  {
   "attachments": {},
   "cell_type": "markdown",
   "metadata": {},
   "source": [
    "# **Exam Overview: Security and Risk Management**\n",
    "\n",
    "*Orange highlights = important definition."
   ]
  },
  {
   "attachments": {},
   "cell_type": "markdown",
   "metadata": {},
   "source": [
    "**Topics [PART 1, Today]**\n",
    "- Understand, adhere to, and promote professional *ETHICS.\n",
    "- Understand and apply *SECURITY CONCEPTS.\n",
    "- Evaluate and apply *SECURITY GOVERNANCE PRINCIPLES\n",
    "- Determine *COMPLIANCE and other requirements\n",
    "- Understand *LEGAL AND REGULATORY ISSUES that pertain to information security in a holistic context.\n",
    "- Understand requirements for *INVESTIGATION TYPES, i.e. administrative, criminal, civil, regulatory, indsutry standards.\n",
    "- Develop, document, and implement *SECURITY POLICY, STANDARDS, PROCEDURES, AND GUIDELINES.\n",
    "\n",
    "**Topics [PART 2, Next Week]**\n",
    "- Identify, analyze, and prioritize *BUSINESS CONTINUITY (BC) requirements.\n",
    "- Contribute to and enforce *PERSONNEL SECURITY POLICIES AND PROCEDURES.\n",
    "- Understand and apply RISK MANAGEMENT CONCEPTS\n",
    "- Understand and apply THREAT MDOELING CONCEPTS AND METHODOLOGIES\n",
    "- Apply SUPPLY CHAIN RISK MANAGEMENT (SCRM) concepts.\n",
    "- Establish and maintain a SECURITY AWARENESS, EDUCATION, AND TRAINING PROGRAM."
   ]
  },
  {
   "attachments": {},
   "cell_type": "markdown",
   "metadata": {},
   "source": [
    "**Professional Ethics**\n",
    "- Ethics is always top concern for all INFO SEC Professionals.\n",
    "- (ISC)2 CODE OF PROFESSIONAL ETHICS is a MUST for CISSP certification (very testable.)\n",
    "- Code of ethics preamble is:\n",
    "    - Safety and welfare of society and common good, duty to our principals, and each other, requires use to adhere, and be seen to adhere, to highest ethical stand of behavior.\n",
    "    - Condition of certification is strictly adherence of the Code of Ethics.\n",
    "- https://www.isc2.org/ethics/"
   ]
  },
  {
   "attachments": {},
   "cell_type": "markdown",
   "metadata": {},
   "source": [
    "**(ISC)2 Code of Professional Ethics**\n",
    "- CISSP members must FOLLOW.\n",
    "- Governed by ISC2 Code of Ethics Cannons: (ORDERED BY IMPORTANCE)\n",
    "    - CANNON 1: Protect society, the common good, necessary public trust and confidence and infrastructure.\n",
    "    - CANNON 2: Act honorably, honestly, justly, repsonsibly, and legally.\n",
    "    - CANNON 3: Provide diligent and competent service to principals.\n",
    "    - CANNON 4: Advance and protect the profession."
   ]
  }
 ],
 "metadata": {
  "language_info": {
   "name": "python"
  },
  "orig_nbformat": 4
 },
 "nbformat": 4,
 "nbformat_minor": 2
}
