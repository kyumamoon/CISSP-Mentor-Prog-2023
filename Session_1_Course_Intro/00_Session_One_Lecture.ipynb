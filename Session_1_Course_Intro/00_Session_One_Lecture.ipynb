{
 "cells": [
  {
   "attachments": {},
   "cell_type": "markdown",
   "metadata": {},
   "source": [
    "# **Introduction**\n",
    "\n",
    "- Information Security is about people, serving people.\n",
    "- Questions:\n",
    "    - cisspmentor@frsecure.com\n",
    "\n",
    "**Why are we here?**\n",
    "\n",
    "- It starts with a story...\n",
    "- Mission is to fix the broken industry.\n",
    "- Free CISSP training and mentoring to bring in more talent."
   ]
  },
  {
   "attachments": {},
   "cell_type": "markdown",
   "metadata": {},
   "source": [
    "**Class Schedule Routine**\n",
    "- QA\n",
    "- Quiz\n",
    "- Current Events\n",
    "- Lecture\n",
    "- Homework"
   ]
  },
  {
   "attachments": {},
   "cell_type": "markdown",
   "metadata": {},
   "source": [
    "**Exam Overview - 8 Domains** \n",
    "- 13% Security Operations\n",
    "- 12% Security Assessment and Testing\n",
    "- 13% Identity and Access Management (IAM)\n",
    "- 13% Communication and Network Security\n",
    "- 11% Software Development Security\n",
    "- 15% Security and Risk Management\n",
    "- 10% Asset Security\n",
    "- 13% Security Architecture and Engineering"
   ]
  }
 ],
 "metadata": {
  "language_info": {
   "name": "python"
  },
  "orig_nbformat": 4
 },
 "nbformat": 4,
 "nbformat_minor": 2
}
